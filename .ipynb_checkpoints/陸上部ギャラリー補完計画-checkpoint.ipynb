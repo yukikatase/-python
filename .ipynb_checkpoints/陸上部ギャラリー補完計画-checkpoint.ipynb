{
 "cells": [
  {
   "cell_type": "markdown",
   "metadata": {},
   "source": [
    "## スクレイピング\n",
    "**必要なライブラリ**\n",
    "- BeautifulSoup\n",
    "- requests\n",
    "- re\n",
    "- time"
   ]
  },
  {
   "cell_type": "code",
   "execution_count": 1,
   "metadata": {},
   "outputs": [],
   "source": [
    "# coding: UTF-8\n",
    "\n",
    "import requests\n",
    "from bs4 import BeautifulSoup\n",
    "import math\n",
    "\n",
    "# 画像保存先のフォルダ名\n",
    "DIR_HOZON = 'test'\n",
    "\n",
    "# フォト蔵のアルバムのURL\n",
    "URL_ORG = 'http://photozou.jp/photo/list/550732/8304253'\n",
    "\n",
    "\n",
    "soups = [] # BeautifulSoupを貯めておくリスト\n",
    "\n",
    "# 1ページ目\n",
    "url = URL_ORG + '?page=1'\n",
    "r = requests.get(url)\n",
    "soup = BeautifulSoup(r.content, 'html.parser')\n",
    "soups.append(soup)\n",
    "\n",
    "# フォト蔵のアルバムの画像の枚数\n",
    "n_pic = int(str(soup('dd')[0]).split('>')[1].split('枚')[0])\n",
    "\n",
    "# フォト蔵のアルバムのページ数\n",
    "n_pages = math.ceil(n_pic / 20)\n",
    "\n",
    "# 2ページ目以降\n",
    "if n_pages > 1:\n",
    "    for i in range(n_pages):\n",
    "        if i != 0:\n",
    "            url = URL_ORG + '?page=' + str(i + 1)\n",
    "            r = requests.get(url)\n",
    "            soup = BeautifulSoup(r.content, 'html.parser')\n",
    "            soups.append(soup)"
   ]
  },
  {
   "cell_type": "code",
   "execution_count": 2,
   "metadata": {},
   "outputs": [
    {
     "name": "stdout",
     "output_type": "stream",
     "text": [
      "136\n"
     ]
    }
   ],
   "source": [
    "# 画像リンクを取得する\n",
    "import re\n",
    "img_list=[]\n",
    "for soup in soups:\n",
    "    for x in soup.find_all('img'):\n",
    "        if re.search('src=\"http', str(x)) and re.search('.jpg', str(x)):\n",
    "            img_list.append(x)\n",
    "\n",
    "# 画像枚数が合っているか確認\n",
    "print(len(img_list))\n",
    "\n",
    "# サムネイル画像のリンクのリスト\n",
    "thumb_links = [x['src'] for x in img_list]\n",
    "\n",
    "# 原寸画像のリンクのリスト\n",
    "org_links = [x.replace('thumbnail', 'org') for x in thumb_links]\n",
    "\n",
    "# 画像の名前のリスト\n",
    "names = [x['title'] for x in img_list]"
   ]
  },
  {
   "cell_type": "code",
   "execution_count": 3,
   "metadata": {},
   "outputs": [
    {
     "name": "stdout",
     "output_type": "stream",
     "text": [
      "DSC01878\n",
      "DSC01910\n",
      "DSC01927\n",
      "133\n"
     ]
    }
   ],
   "source": [
    "# 名前重複確認\n",
    "chofuku=[]\n",
    "for x in sorted(names):\n",
    "    if x not in chofuku:\n",
    "        chofuku.append(x)\n",
    "    else:\n",
    "        print(x)\n",
    "print(len(chofuku))"
   ]
  },
  {
   "cell_type": "code",
   "execution_count": 89,
   "metadata": {},
   "outputs": [],
   "source": [
    "import time\n",
    "\n",
    "# サムネイルか原寸画像か選ぶ(原寸のときselect=True, サムネselect=Falseで)\n",
    "select = True\n",
    "\n",
    "if select:\n",
    "    download_urls = org_links\n",
    "else:\n",
    "    download_urls = thumb_links\n",
    "\n",
    "# ファイルのダウンロード（for文を回す間隔を設定してから実行!!!!!!!）\n",
    "for i in range(len(names)):    \n",
    "    \n",
    "    r = requests.get(download_urls[i])\n",
    "    \n",
    "    # ファイルの保存\n",
    "    if r.status_code == 200:\n",
    "        if select:\n",
    "            f = open(DIR_HOZON +  '/' + names[i] + '.jpg', 'bw')\n",
    "        else:\n",
    "            f = open(DIR_HOZON +  '/thumbnail_' + names[i] + '.jpg', 'bw')\n",
    "        f.write(r.content)\n",
    "        f.close()\n",
    "    else:\n",
    "        print('error - ' + names[i])\n",
    "    \n",
    "    # 0.5秒スリープ\n",
    "    time.sleep(0.5)"
   ]
  },
  {
   "cell_type": "code",
   "execution_count": null,
   "metadata": {
    "collapsed": true
   },
   "outputs": [],
   "source": []
  },
  {
   "cell_type": "markdown",
   "metadata": {},
   "source": [
    "## HTML生成\n",
    "**必要なライブラリ**\n",
    "- glob\n",
    "- re"
   ]
  },
  {
   "cell_type": "code",
   "execution_count": 102,
   "metadata": {
    "collapsed": true
   },
   "outputs": [],
   "source": [
    "# coding: utf-8\n",
    "\n",
    "import glob\n",
    "\n",
    "# 画像が入っているフォルダ\n",
    "DIR_HOZON = '2017_26univ'\n",
    "\n",
    "# 生成するhtml\n",
    "htm1 = DIR_HOZON + '.html'\n",
    "\n",
    "# htmlのタイトル\n",
    "TITLE = r'2017年26大学対校戦'\n",
    "\n",
    "# フォルダ内の画像のパスを取得\n",
    "files = glob.glob(DIR_HOZON + '/*.jpg')\n",
    "\n",
    "# フォルダ内の画像の名前のリスト\n",
    "file_names = [x.replace(DIR_HOZON + '/', '').replace('.jpg', '') for x in files]"
   ]
  },
  {
   "cell_type": "code",
   "execution_count": 107,
   "metadata": {},
   "outputs": [],
   "source": [
    "import re\n",
    "\n",
    "f = open(htm1, 'a')\n",
    "\n",
    "f.write('<!DOCTYPE html>' + '\\n')\n",
    "f.write('<html>' + '\\n')\n",
    "f.write('  <head>' + '\\n')\n",
    "f.write('    <meta charset=\"UTF-8\" />' + '\\n')\n",
    "f.write('    <title>' + TITLE + '</title>' + '\\n')\n",
    "f.write('  </head>' + '\\n')\n",
    "f.write('  <body>' + '\\n')\n",
    "\n",
    "for name in file_names:\n",
    "    if not re.search('thumbnail', name):\n",
    "        f.write('    <a href=\"' + DIR_HOZON + '/' + name + '.jpg' + '\"><img src=\"' + DIR_HOZON + '/thumbnail_' + name + '.jpg' + '\" alt=\"image\" width=\"120\" border=\"0\" /></a>\\n')\n",
    "\n",
    "f.write('  </body>' + '\\n')\n",
    "f.write('</html>' + '\\n')\n",
    "\n",
    "f.close()"
   ]
  },
  {
   "cell_type": "code",
   "execution_count": null,
   "metadata": {
    "collapsed": true
   },
   "outputs": [],
   "source": []
  },
  {
   "cell_type": "code",
   "execution_count": null,
   "metadata": {
    "collapsed": true
   },
   "outputs": [],
   "source": []
  },
  {
   "cell_type": "code",
   "execution_count": 1,
   "metadata": {
    "collapsed": true
   },
   "outputs": [],
   "source": [
    "with open('event_list.txt', 'r') as f:\n",
    "    event_list = f.readlines()"
   ]
  },
  {
   "cell_type": "code",
   "execution_count": 7,
   "metadata": {},
   "outputs": [],
   "source": [
    "a = [event.split(' ')[0] for event in event_list]"
   ]
  },
  {
   "cell_type": "code",
   "execution_count": 8,
   "metadata": {},
   "outputs": [
    {
     "data": {
      "text/plain": [
       "['2017_arakawa',\n",
       " '2017_gakunaiekiden',\n",
       " '2017_obog',\n",
       " '2017_hakoneyosen',\n",
       " '2017_2Xuniv',\n",
       " '2017_summer',\n",
       " '2017_sanko',\n",
       " '2017_13univ',\n",
       " '2017_kokkoritsu',\n",
       " '2017_kankare',\n",
       " '2017_noko',\n",
       " '2017_graduation',\n",
       " '2017_spring',\n",
       " '2017_2Xuniv_ekiden',\n",
       " '2016_arakawa',\n",
       " '2016_gakunaiekiden',\n",
       " '2016_obog',\n",
       " '2016_hakoneyosen',\n",
       " '2016_2Xuniv',\n",
       " '2016_2Xuniv',\n",
       " '2016_zenkare',\n",
       " '2016_rikokei',\n",
       " '2016_summer',\n",
       " '2016_sanko',\n",
       " '2016_13univ',\n",
       " '2016_kokkoritsu',\n",
       " '2016_kankare',\n",
       " '2015_zenkare',\n",
       " '2015_summer',\n",
       " '2015_spring',\n",
       " '2015_shinjin',\n",
       " '2015_sanko',\n",
       " '2015_rikokei',\n",
       " '2015_noko',\n",
       " '2015_kokkoritsu',\n",
       " '2015_kankare',\n",
       " '2015_hakone',\n",
       " '2015_graduation',\n",
       " '2015_13univ',\n",
       " '2015_2Xuniv_ekiden',\n",
       " '2015_2Xuniv',\n",
       " '2014_zenkare',\n",
       " '2014_summer',\n",
       " '2014_spring',\n",
       " '2014_shinjin',\n",
       " '2014_sanko',\n",
       " '2014_rikokei',\n",
       " '2014_obog',\n",
       " '2014_hakoneyosen',\n",
       " '2014_gakunaiekiden',\n",
       " '2014_arakawa',\n",
       " '2014_noko',\n",
       " '2014_kokkoritsu',\n",
       " '2014_kankare',\n",
       " '2012_zenkare',\n",
       " '2014_graduation',\n",
       " '2014_13univ',\n",
       " '2014_2Xuniv_ekiden',\n",
       " '2014_2Xuniv',\n",
       " '2014_special',\n",
       " '2013_summer',\n",
       " '2013_spring',\n",
       " '2013_shinjin',\n",
       " '2013_sanko',\n",
       " '2013_rikokei',\n",
       " '2013_obog',\n",
       " '2013_hakoneyosen',\n",
       " '2013_gakunaiekiden',\n",
       " '2013_arakawa',\n",
       " '2013_noko',\n",
       " '2013_kokkoritsu',\n",
       " '2013_kankare',\n",
       " '2012_zenkare',\n",
       " '2013_graduation',\n",
       " '2013_13univ',\n",
       " '2013_2Xuniv_ekiden',\n",
       " '2013_2Xuniv',\n",
       " '2013_special',\n",
       " '2012_summer',\n",
       " '2012_spring',\n",
       " '2012_shinjin',\n",
       " '2012_sanko',\n",
       " '2012_rikokei',\n",
       " '2012_obog',\n",
       " '2012_hakoneyosen',\n",
       " '2012_gakunaiekiden',\n",
       " '2012_arakawa',\n",
       " '2012_noko',\n",
       " '2012_kokkoritsu',\n",
       " '2012_kankare',\n",
       " '2012_zenkare',\n",
       " '2012_graduation',\n",
       " '2012_13univ',\n",
       " '2012_2Xuniv_ekiden',\n",
       " '2012_2Xuniv',\n",
       " '2012_special',\n",
       " '2011_summer',\n",
       " '2011_spring',\n",
       " '2011_shinjin',\n",
       " '2011_sanko',\n",
       " '2011_rikokei',\n",
       " '2011_obog',\n",
       " '2011_hakoneyosen',\n",
       " '2011_gakunaiekiden',\n",
       " '2011_arakawa',\n",
       " '2011_noko',\n",
       " '2011_kokkoritsu',\n",
       " '2011_kankare',\n",
       " '2011_zenkare',\n",
       " '2011_graduation',\n",
       " '2011_13univ',\n",
       " '2011_2Xuniv_ekiden',\n",
       " '2011_2Xuniv',\n",
       " '2011_special',\n",
       " '2010_summer',\n",
       " '2010_spring',\n",
       " '2010_shinjin',\n",
       " '2010_sanko',\n",
       " '2010_rikokei',\n",
       " '2010_obog',\n",
       " '2010_hakoneyosen',\n",
       " '2010_gakunaiekiden',\n",
       " '2010_arakawa',\n",
       " '2010_noko',\n",
       " '2010_kokkoritsu',\n",
       " '2010_kankare',\n",
       " '2010_zenkare',\n",
       " '2010_graduation',\n",
       " '2010_13univ',\n",
       " '2010_2Xuniv_ekiden',\n",
       " '2010_2Xuniv',\n",
       " '2010_special',\n",
       " '2009_special',\n",
       " '2009_spring']"
      ]
     },
     "execution_count": 8,
     "metadata": {},
     "output_type": "execute_result"
    }
   ],
   "source": [
    "a"
   ]
  },
  {
   "cell_type": "code",
   "execution_count": null,
   "metadata": {
    "collapsed": true
   },
   "outputs": [],
   "source": []
  }
 ],
 "metadata": {
  "kernelspec": {
   "display_name": "Python 3",
   "language": "python",
   "name": "python3"
  },
  "language_info": {
   "codemirror_mode": {
    "name": "ipython",
    "version": 3
   },
   "file_extension": ".py",
   "mimetype": "text/x-python",
   "name": "python",
   "nbconvert_exporter": "python",
   "pygments_lexer": "ipython3",
   "version": "3.4.5"
  }
 },
 "nbformat": 4,
 "nbformat_minor": 2
}
